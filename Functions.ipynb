{
  "nbformat": 4,
  "nbformat_minor": 0,
  "metadata": {
    "colab": {
      "provenance": []
    },
    "kernelspec": {
      "name": "python3",
      "display_name": "Python 3"
    },
    "language_info": {
      "name": "python"
    }
  },
  "cells": [
    {
      "cell_type": "code",
      "execution_count": 5,
      "metadata": {
        "id": "v1y2f2k86065"
      },
      "outputs": [],
      "source": [
        "#Function Assignment"
      ]
    },
    {
      "cell_type": "markdown",
      "source": [
        "Q.1 What is the difference between a function and a method in Python?\n",
        " - Ans. In Python, a function is a block of reusable code that performs a specific task and is defined using the def keyword. Functions can exist independently and be called by their name directly, like def greet():. On the other hand, a method is a function that is associated with an object or class—it is defined inside a class and called on an instance of that class. Methods always take at least one argument, usually self, which refers to the instance calling the method. For example, in a class Car, you might define a method like def start_engine(self):, and it would be called using my_car.start_engine(). So, while all methods are functions, not all functions are methods. The main difference lies in their association with objects—functions are standalone, whereas methods are bound to objects or classes."
      ],
      "metadata": {
        "id": "9_8QBiYQ7x03"
      }
    },
    {
      "cell_type": "markdown",
      "source": [
        "Q.2 Explain the concept of function arguments and parameters in Python?\n",
        "- Ans. In Python, parameters are the names used when defining a function to accept input values, while arguments are the actual values passed to the function when it is called. For example, in the function definition def greet(name):, name is a parameter. When you call greet(\"Shivam\"), the value \"Shivam\" is the argument. Python allows different types of arguments, such as positional arguments, keyword arguments, default parameters, and arbitrary arguments using *args and **kwargs. Parameters help make functions flexible and reusable by allowing input customization, and arguments provide the real data for the function to work with during execution. This distinction is key to understanding how functions operate and communicate in Python."
      ],
      "metadata": {
        "id": "MWh_ibDw8HxH"
      }
    },
    {
      "cell_type": "markdown",
      "source": [
        "Q.3 What are the different ways to define and call a function in Python?\n",
        "- Ans. In Python, functions can be defined using the def keyword followed by the function name and parentheses, which may include parameters. For example, def greet(): defines a simple function without parameters, while def add(a, b): defines a function with two parameters. Another way to define functions is using lambda functions, which are anonymous functions written in a single line using the lambda keyword, like lambda x: x * 2. Functions can be called by writing their name followed by parentheses, such as greet() or add(5, 3). You can call functions using positional arguments, where values are passed in order, or keyword arguments, where values are passed with parameter names like add(a=5, b=3). You can also call functions using default arguments, where some parameters have predefined values, or use * args and ** kwargs to pass a variable number of arguments. These flexible ways of defining and calling functions make Python powerful and easy to use."
      ],
      "metadata": {
        "id": "eRA7v_Oa8iD1"
      }
    },
    {
      "cell_type": "markdown",
      "source": [
        "Q.4 What is the purpose of the `return` statement in a Python function?\n",
        "- Ans. The return statement in a Python function is used to send a result or value back to the place where the function was called. It ends the function’s execution and optionally provides a value to the caller. For example, in def add(a, b): return a + b, the function returns the sum of a and b. Without a return statement, the function returns None by default. The returned value can be stored in a variable, used in expressions, or passed to other functions. The return statement is essential when you want your function to produce an output that can be used further in your program."
      ],
      "metadata": {
        "id": "BqGzU__J9WN0"
      }
    },
    {
      "cell_type": "markdown",
      "source": [
        "Q.5 What are iterators in Python and how do they differ from iterables?\n",
        "- Ans. In Python, an iterator is an object that represents a stream of data and returns elements one at a time using the next() function. It keeps track of its current position and knows how to fetch the next value until the sequence is exhausted. Iterators implement two methods: __iter__() and __next__(). On the other hand, an iterable is any object that can return an iterator using the __iter__() method. Examples of iterables include lists, tuples, strings, and dictionaries. The main difference is that iterables are containers that can be looped over (like in a for loop), while iterators are the tools that do the actual iteration. When you pass an iterable to the iter() function, it returns an iterator that can then be used to access elements one by one using next()."
      ],
      "metadata": {
        "id": "K9h-ZPxG9u2p"
      }
    },
    {
      "cell_type": "markdown",
      "source": [
        "Q.6  Explain the concept of generators in Python and how they are defined?\n",
        "- Ans. In Python, generators are a special type of iterator that allow you to iterate over data without storing the entire sequence in memory. They are defined using a function with the yield keyword instead of return. When a generator function is called, it doesn’t run the code immediately but returns a generator object. Each time next() is called on this object, the function resumes from where it left off and continues until it hits the next yield. This makes generators memory-efficient and ideal for working with large datasets or infinite sequences. For example, def count_up(): yield 1; yield 2; yield 3 defines a simple generator. Generators automatically implement the iterator protocol, so they can be used in loops and other iteration contexts just like regular iterators."
      ],
      "metadata": {
        "id": "6FXgOsmo-H6J"
      }
    },
    {
      "cell_type": "markdown",
      "source": [
        "Q.7 What are the advantages of using generators over regular functions?\n",
        "- Ans. Generators offer several advantages over regular functions, especially when dealing with large datasets or streaming data. The key benefit is memory efficiency, as generators yield one item at a time instead of storing the entire result in memory like regular functions with lists. This is ideal for processing large files or data streams. Another advantage is lazy evaluation, meaning values are generated only when needed, which improves performance and reduces unnecessary computation. Generators also help write cleaner and more readable code for complex iterations, especially in loops. Additionally, they maintain state between iterations without needing to manage loop variables manually. Overall, generators provide a powerful, lightweight, and Pythonic way to handle data iteration efficiently.\n",
        "\n"
      ],
      "metadata": {
        "id": "t4wewlPp-rVR"
      }
    },
    {
      "cell_type": "markdown",
      "source": [
        "Q.8 What is a lambda function in Python and when is it typically used?\n",
        "- Ans. A lambda function in Python is a small, anonymous function defined using the lambda keyword instead of def. It can take any number of arguments but only has a single expression, which is automatically returned. The basic syntax is lambda arguments: expression. For example, lambda x: x * 2 is a lambda function that doubles the input. Lambda functions are typically used when a short function is needed for a short period, especially as arguments to higher-order functions like map(), filter(), and sorted(). They are useful for writing concise and readable code when the function’s logic is simple and doesn’t require a full def block."
      ],
      "metadata": {
        "id": "Ty4bEkAq_G-m"
      }
    },
    {
      "cell_type": "markdown",
      "source": [
        "Q.9  Explain the purpose and usage of the `map()` function in Python?\n",
        "- Ans. The map() function in Python is used to apply a given function to each item in an iterable (like a list, tuple, etc.) and return a new map object (which is an iterator) containing the results. The basic syntax is map(function, iterable). For example, if you want to double each number in a list, you can use map(lambda x: x * 2, [1, 2, 3]), which returns an iterator with values [2, 4, 6]. You can convert the result to a list using list() for viewing or further use. The main purpose of map() is to simplify the code when you need to apply the same operation to every element of a sequence, making it more efficient and readable compared to a for loop."
      ],
      "metadata": {
        "id": "9b9oEoj6_hUV"
      }
    },
    {
      "cell_type": "markdown",
      "source": [
        "Q.10 What is the difference between `map()`, `reduce()`, and `filter()` functions in Python?\n",
        "- Ans. In Python, map(), reduce(), and filter() are built-in functions used for processing data in a functional programming style, but they serve different purposes:\n",
        "\n",
        "*  map() is used to apply a function to each item in an iterable and returns a new iterable (map object) with the transformed items. For example, map(lambda x: x*2, [1, 2, 3]) returns [2, 4, 6].\n",
        "*   filter() is used to apply a function that returns True or False to each item in an iterable and returns only the items where the function returns True. For example, filter(lambda x: x % 2 == 0, [1, 2, 3, 4]) returns [2, 4].\n",
        "\n",
        "*   reduce(), which is available through the functools module, applies a function cumulatively to the items of an iterable, reducing it to a single value. For example, reduce(lambda x, y: x + y, [1, 2, 3, 4]) returns 10.\n",
        "\n",
        "\n",
        "\n"
      ],
      "metadata": {
        "id": "wjtdn5H7_34s"
      }
    },
    {
      "cell_type": "code",
      "source": [
        "#Practical Question."
      ],
      "metadata": {
        "id": "RKZDIYvOFj0a"
      },
      "execution_count": 6,
      "outputs": []
    },
    {
      "cell_type": "code",
      "source": [
        "# Q.1 Write a Python function that takes a list of numbers as input and returns the sum of all even numbers in  the list?\n",
        "\n",
        "def sum_of_even_numbers(numbers):\n",
        "    even_sum = sum(num for num in numbers if num % 2 == 0)\n",
        "    return even_sum\n",
        "\n",
        "# Example usage:\n",
        "my_list = [10, 15, 22, 33, 40]\n",
        "result = sum_of_even_numbers(my_list)\n",
        "print(\"Sum of even numbers:\", result)\n",
        "\n"
      ],
      "metadata": {
        "colab": {
          "base_uri": "https://localhost:8080/"
        },
        "id": "Ef5lghaV78ha",
        "outputId": "c0e28d69-d025-48dc-ebd4-a9ca66d144a0"
      },
      "execution_count": 7,
      "outputs": [
        {
          "output_type": "stream",
          "name": "stdout",
          "text": [
            "Sum of even numbers: 72\n"
          ]
        }
      ]
    },
    {
      "cell_type": "code",
      "source": [
        "# Q.2 Create a Python function that accepts a string and returns the reverse of that string.\n",
        "\n",
        "def reverse_string(text):\n",
        "    return text[::-1]\n",
        "\n",
        "# Example usage:\n",
        "input_str = \"hello world\"\n",
        "reversed_str = reverse_string(input_str)\n",
        "print(\"Reversed string:\", reversed_str)\n"
      ],
      "metadata": {
        "colab": {
          "base_uri": "https://localhost:8080/"
        },
        "id": "SIhMfYb3GeT3",
        "outputId": "919b75c8-1e5b-41bb-9882-56cf7a6df36b"
      },
      "execution_count": 8,
      "outputs": [
        {
          "output_type": "stream",
          "name": "stdout",
          "text": [
            "Reversed string: dlrow olleh\n"
          ]
        }
      ]
    },
    {
      "cell_type": "code",
      "source": [
        "# Q.3 Implement a Python function that takes a list of integers and returns a new list containing the squares of  each number.\n",
        "\n",
        "def square_numbers(numbers):\n",
        "    return [num ** 2 for num in numbers]\n",
        "\n",
        "# Example usage:\n",
        "my_list = [2, 3, 4, 5]\n",
        "squared_list = square_numbers(my_list)\n",
        "print(\"Squared numbers:\", squared_list)\n"
      ],
      "metadata": {
        "colab": {
          "base_uri": "https://localhost:8080/"
        },
        "id": "psKIM2brG9UW",
        "outputId": "22d4f6c9-6b0b-407a-93d4-efeda021e92d"
      },
      "execution_count": 9,
      "outputs": [
        {
          "output_type": "stream",
          "name": "stdout",
          "text": [
            "Squared numbers: [4, 9, 16, 25]\n"
          ]
        }
      ]
    },
    {
      "cell_type": "code",
      "source": [
        "# Q.4 Write a Python function that checks if a given number is prime or not from 1 to 200\n",
        "\n",
        "def is_prime(n):\n",
        "    if n <= 1 or n > 200:\n",
        "        return False  # Not prime if <= 1 or out of range\n",
        "    for i in range(2, int(n ** 0.5) + 1):\n",
        "        if n % i == 0:\n",
        "            return False\n",
        "    return True\n",
        "\n",
        "# Example usage:\n",
        "number = 113\n",
        "if is_prime(number):\n",
        "    print(f\"{number} is a prime number.\")\n",
        "else:\n",
        "    print(f\"{number} is not a prime number.\")\n"
      ],
      "metadata": {
        "colab": {
          "base_uri": "https://localhost:8080/"
        },
        "id": "mRoG0dpuHTPE",
        "outputId": "3a71937d-c65a-4e63-edac-bb3897941dea"
      },
      "execution_count": 10,
      "outputs": [
        {
          "output_type": "stream",
          "name": "stdout",
          "text": [
            "113 is a prime number.\n"
          ]
        }
      ]
    },
    {
      "cell_type": "code",
      "source": [
        "# Q.5 Create an iterator class in Python that generates the Fibonacci sequence up to a specified number of terms.\n",
        "\n",
        "class FibonacciIterator:\n",
        "    def __init__(self, max_terms):\n",
        "        self.max_terms = max_terms\n",
        "        self.count = 0\n",
        "        self.a = 0\n",
        "        self.b = 1\n",
        "\n",
        "    def __iter__(self):\n",
        "        return self\n",
        "\n",
        "    def __next__(self):\n",
        "        if self.count >= self.max_terms:\n",
        "            raise StopIteration\n",
        "        if self.count == 0:\n",
        "            self.count += 1\n",
        "            return self.a\n",
        "        elif self.count == 1:\n",
        "            self.count += 1\n",
        "            return self.b\n",
        "        else:\n",
        "            self.count += 1\n",
        "            self.a, self.b = self.b, self.a + self.b\n",
        "            return self.b\n",
        "\n",
        "# Example usage:\n",
        "fib = FibonacciIterator(10)\n",
        "for num in fib:\n",
        "    print(num, end=\" \")\n"
      ],
      "metadata": {
        "colab": {
          "base_uri": "https://localhost:8080/"
        },
        "id": "gQl9u1YoHuID",
        "outputId": "90529105-4fd1-43fa-b698-8862263bab1d"
      },
      "execution_count": 11,
      "outputs": [
        {
          "output_type": "stream",
          "name": "stdout",
          "text": [
            "0 1 1 2 3 5 8 13 21 34 "
          ]
        }
      ]
    },
    {
      "cell_type": "code",
      "source": [
        "# Q.6 Write a generator function in Python that yields the powers of 2 up to a given exponent.\n",
        "\n",
        "def powers_of_two(max_exponent):\n",
        "    for i in range(max_exponent + 1):\n",
        "        yield 2 ** i\n",
        "\n",
        "# Example usage:\n",
        "for power in powers_of_two(5):\n",
        "    print(power, end=\" \")\n"
      ],
      "metadata": {
        "colab": {
          "base_uri": "https://localhost:8080/"
        },
        "id": "o2TejnpzITX5",
        "outputId": "92266116-fbdf-45ed-dac7-c1b8af67ff76"
      },
      "execution_count": 12,
      "outputs": [
        {
          "output_type": "stream",
          "name": "stdout",
          "text": [
            "1 2 4 8 16 32 "
          ]
        }
      ]
    },
    {
      "cell_type": "code",
      "source": [
        "# Q.7 Implement a generator function that reads a file line by line and yields each line as a string.\n",
        "\n",
        "import os\n",
        "\n",
        "def read_file_line_by_line(file_path):\n",
        "    if not os.path.exists(file_path):\n",
        "        print(\"File not found:\", file_path)\n",
        "        return\n",
        "    with open(file_path, 'r') as file:\n",
        "        for line in file:\n",
        "            yield line.rstrip('\\n')\n",
        "\n",
        "# Example usage\n",
        "file_path = 'test.txt'  # Replace with your actual file\n",
        "for line in read_file_line_by_line(file_path):\n",
        "    print(line)\n"
      ],
      "metadata": {
        "colab": {
          "base_uri": "https://localhost:8080/"
        },
        "id": "XgHCV-E9JO_J",
        "outputId": "6d721394-01c8-4a07-96fb-12cdfa8b0d7f"
      },
      "execution_count": 15,
      "outputs": [
        {
          "output_type": "stream",
          "name": "stdout",
          "text": [
            "File not found: test.txt\n"
          ]
        }
      ]
    },
    {
      "cell_type": "code",
      "source": [
        "# Q.8  Use a lambda function in Python to sort a list of tuples based on the second element of each tuple.\n",
        "\n",
        "# Sample list of tuples\n",
        "data = [(1, 5), (3, 1), (4, 9), (2, 6)]\n",
        "\n",
        "# Sort using lambda (by second element)\n",
        "sorted_data = sorted(data, key=lambda x: x[1])\n",
        "\n",
        "# Print result\n",
        "print(\"Sorted by second element:\", sorted_data)\n"
      ],
      "metadata": {
        "colab": {
          "base_uri": "https://localhost:8080/"
        },
        "id": "c_Z1pAmgJmlO",
        "outputId": "1e7105fd-97e4-4dbf-ef5b-3097a4e8ed12"
      },
      "execution_count": 16,
      "outputs": [
        {
          "output_type": "stream",
          "name": "stdout",
          "text": [
            "Sorted by second element: [(3, 1), (1, 5), (2, 6), (4, 9)]\n"
          ]
        }
      ]
    },
    {
      "cell_type": "code",
      "source": [
        "# Q.9 Write a Python program that uses `map()` to convert a list of temperatures from Celsius to Fahrenheit.\n",
        "\n",
        "# List of temperatures in Celsius\n",
        "celsius_temps = [0, 20, 37, 100]\n",
        "\n",
        "# Formula: F = (C * 9/5) + 32\n",
        "fahrenheit_temps = list(map(lambda c: (c * 9/5) + 32, celsius_temps))\n",
        "\n",
        "# Print result\n",
        "print(\"Fahrenheit temperatures:\", fahrenheit_temps)\n"
      ],
      "metadata": {
        "colab": {
          "base_uri": "https://localhost:8080/"
        },
        "id": "SvP9ojqpLIEy",
        "outputId": "4fec94ca-64b7-4ef5-b3e0-3963c0e56901"
      },
      "execution_count": 17,
      "outputs": [
        {
          "output_type": "stream",
          "name": "stdout",
          "text": [
            "Fahrenheit temperatures: [32.0, 68.0, 98.6, 212.0]\n"
          ]
        }
      ]
    },
    {
      "cell_type": "code",
      "source": [
        "# Q.10 Create a Python program that uses `filter()` to remove all the vowels from a given string.\n",
        "\n",
        "def remove_vowels(input_string):\n",
        "    vowels = 'aeiouAEIOU'\n",
        "    result = ''.join(filter(lambda char: char not in vowels, input_string))\n",
        "    return result\n",
        "\n",
        "# Example usage:\n",
        "text = \"Hello World, Python is amazing!\"\n",
        "no_vowels = remove_vowels(text)\n",
        "print(\"String without vowels:\", no_vowels)\n"
      ],
      "metadata": {
        "colab": {
          "base_uri": "https://localhost:8080/"
        },
        "id": "xNlJLD8yLjbY",
        "outputId": "88e112fa-8212-42d3-8e23-265ac370f3e5"
      },
      "execution_count": 18,
      "outputs": [
        {
          "output_type": "stream",
          "name": "stdout",
          "text": [
            "String without vowels: Hll Wrld, Pythn s mzng!\n"
          ]
        }
      ]
    },
    {
      "cell_type": "code",
      "source": [
        "# Q.11 Imagine an accounting routine used in a book shop. It works on a list with sublists, which look like this:\n",
        "\n",
        "# Given book order data\n",
        "orders = [\n",
        "    [34587, \"Learning Python, Mark Lutz\", 4, 40.95],\n",
        "    [98762, \"Programming Python, Mark Lutz\", 5, 56.80],\n",
        "    [77226, \"Head First Python, Paul Barry\", 3, 32.95],\n",
        "    [88112, \"Einführung in Python3, Bernd Klein\", 3, 24.99]\n",
        "]\n",
        "\n",
        "# Generate result using lambda and map\n",
        "result = list(map(\n",
        "    lambda order: (\n",
        "        order[0],\n",
        "        round(order[2] * order[3] + 10, 2) if order[2] * order[3] < 100 else round(order[2] * order[3], 2)\n",
        "    ),\n",
        "    orders\n",
        "))\n",
        "\n",
        "# Print the result\n",
        "print(result)\n",
        "\n"
      ],
      "metadata": {
        "colab": {
          "base_uri": "https://localhost:8080/"
        },
        "id": "z7ZMf5E2L6Ov",
        "outputId": "04f7b409-cde3-4565-9a1d-6d45ed135779"
      },
      "execution_count": 20,
      "outputs": [
        {
          "output_type": "stream",
          "name": "stdout",
          "text": [
            "[(34587, 163.8), (98762, 284.0), (77226, 108.85), (88112, 84.97)]\n"
          ]
        }
      ]
    },
    {
      "cell_type": "code",
      "source": [],
      "metadata": {
        "id": "42B8UpAVM0X1"
      },
      "execution_count": null,
      "outputs": []
    }
  ]
}